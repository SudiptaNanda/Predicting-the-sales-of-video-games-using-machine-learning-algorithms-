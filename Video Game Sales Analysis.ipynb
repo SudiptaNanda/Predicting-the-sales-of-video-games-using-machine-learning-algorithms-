{
 "cells": [
  {
   "cell_type": "markdown",
   "metadata": {},
   "source": [
    "# Video Game Sales Analysis"
   ]
  },
  {
   "cell_type": "code",
   "execution_count": 1,
   "metadata": {},
   "outputs": [],
   "source": [
    "#Import all the required libraries\n",
    "import numpy as np\n",
    "import pandas as pd\n",
    "import sklearn\n",
    "import seaborn as sns\n",
    "from matplotlib import style\n",
    "import matplotlib.pyplot as plt\n",
    "%matplotlib inline\n",
    "import seaborn as sns\n",
    "from sklearn.model_selection import train_test_split\n",
    "from sklearn import linear_model\n",
    "from sklearn.ensemble import RandomForestRegressor\n",
    "from sklearn.svm import SVR\n",
    "from sklearn.metrics import mean_squared_error,mean_absolute_error,r2_score\n",
    "\n",
    "import warnings\n",
    "warnings.filterwarnings(\"ignore\")"
   ]
  },
  {
   "cell_type": "code",
   "execution_count": 2,
   "metadata": {},
   "outputs": [
    {
     "data": {
      "text/html": [
       "<div>\n",
       "<style scoped>\n",
       "    .dataframe tbody tr th:only-of-type {\n",
       "        vertical-align: middle;\n",
       "    }\n",
       "\n",
       "    .dataframe tbody tr th {\n",
       "        vertical-align: top;\n",
       "    }\n",
       "\n",
       "    .dataframe thead th {\n",
       "        text-align: right;\n",
       "    }\n",
       "</style>\n",
       "<table border=\"1\" class=\"dataframe\">\n",
       "  <thead>\n",
       "    <tr style=\"text-align: right;\">\n",
       "      <th></th>\n",
       "      <th>Name</th>\n",
       "      <th>Platform</th>\n",
       "      <th>Year_of_Release</th>\n",
       "      <th>Genre</th>\n",
       "      <th>Publisher</th>\n",
       "      <th>NA_Sales</th>\n",
       "      <th>EU_Sales</th>\n",
       "      <th>JP_Sales</th>\n",
       "      <th>Other_Sales</th>\n",
       "      <th>Global_Sales</th>\n",
       "      <th>Critic_Score</th>\n",
       "      <th>Critic_Count</th>\n",
       "      <th>User_Score</th>\n",
       "      <th>User_Count</th>\n",
       "      <th>Developer</th>\n",
       "      <th>Rating</th>\n",
       "    </tr>\n",
       "  </thead>\n",
       "  <tbody>\n",
       "    <tr>\n",
       "      <th>0</th>\n",
       "      <td>Wii Sports</td>\n",
       "      <td>Wii</td>\n",
       "      <td>2006.0</td>\n",
       "      <td>Sports</td>\n",
       "      <td>Nintendo</td>\n",
       "      <td>41.36</td>\n",
       "      <td>28.96</td>\n",
       "      <td>3.77</td>\n",
       "      <td>8.45</td>\n",
       "      <td>82.53</td>\n",
       "      <td>76.0</td>\n",
       "      <td>51.0</td>\n",
       "      <td>8.0</td>\n",
       "      <td>322.0</td>\n",
       "      <td>Nintendo</td>\n",
       "      <td>E</td>\n",
       "    </tr>\n",
       "    <tr>\n",
       "      <th>1</th>\n",
       "      <td>Super Mario Bros.</td>\n",
       "      <td>NES</td>\n",
       "      <td>1985.0</td>\n",
       "      <td>Platform</td>\n",
       "      <td>Nintendo</td>\n",
       "      <td>29.08</td>\n",
       "      <td>3.58</td>\n",
       "      <td>6.81</td>\n",
       "      <td>0.77</td>\n",
       "      <td>40.24</td>\n",
       "      <td>NaN</td>\n",
       "      <td>NaN</td>\n",
       "      <td>NaN</td>\n",
       "      <td>NaN</td>\n",
       "      <td>NaN</td>\n",
       "      <td>NaN</td>\n",
       "    </tr>\n",
       "    <tr>\n",
       "      <th>2</th>\n",
       "      <td>Mario Kart Wii</td>\n",
       "      <td>Wii</td>\n",
       "      <td>2008.0</td>\n",
       "      <td>Racing</td>\n",
       "      <td>Nintendo</td>\n",
       "      <td>15.68</td>\n",
       "      <td>12.76</td>\n",
       "      <td>3.79</td>\n",
       "      <td>3.29</td>\n",
       "      <td>35.52</td>\n",
       "      <td>82.0</td>\n",
       "      <td>73.0</td>\n",
       "      <td>8.3</td>\n",
       "      <td>709.0</td>\n",
       "      <td>Nintendo</td>\n",
       "      <td>E</td>\n",
       "    </tr>\n",
       "    <tr>\n",
       "      <th>3</th>\n",
       "      <td>Wii Sports Resort</td>\n",
       "      <td>Wii</td>\n",
       "      <td>2009.0</td>\n",
       "      <td>Sports</td>\n",
       "      <td>Nintendo</td>\n",
       "      <td>15.61</td>\n",
       "      <td>10.93</td>\n",
       "      <td>3.28</td>\n",
       "      <td>2.95</td>\n",
       "      <td>32.77</td>\n",
       "      <td>80.0</td>\n",
       "      <td>73.0</td>\n",
       "      <td>8.0</td>\n",
       "      <td>192.0</td>\n",
       "      <td>Nintendo</td>\n",
       "      <td>E</td>\n",
       "    </tr>\n",
       "    <tr>\n",
       "      <th>4</th>\n",
       "      <td>Pokemon Red/Pokemon Blue</td>\n",
       "      <td>GB</td>\n",
       "      <td>1996.0</td>\n",
       "      <td>Role-Playing</td>\n",
       "      <td>Nintendo</td>\n",
       "      <td>11.27</td>\n",
       "      <td>8.89</td>\n",
       "      <td>10.22</td>\n",
       "      <td>1.00</td>\n",
       "      <td>31.37</td>\n",
       "      <td>NaN</td>\n",
       "      <td>NaN</td>\n",
       "      <td>NaN</td>\n",
       "      <td>NaN</td>\n",
       "      <td>NaN</td>\n",
       "      <td>NaN</td>\n",
       "    </tr>\n",
       "  </tbody>\n",
       "</table>\n",
       "</div>"
      ],
      "text/plain": [
       "                       Name Platform  Year_of_Release         Genre Publisher  \\\n",
       "0                Wii Sports      Wii           2006.0        Sports  Nintendo   \n",
       "1         Super Mario Bros.      NES           1985.0      Platform  Nintendo   \n",
       "2            Mario Kart Wii      Wii           2008.0        Racing  Nintendo   \n",
       "3         Wii Sports Resort      Wii           2009.0        Sports  Nintendo   \n",
       "4  Pokemon Red/Pokemon Blue       GB           1996.0  Role-Playing  Nintendo   \n",
       "\n",
       "   NA_Sales  EU_Sales  JP_Sales  Other_Sales  Global_Sales  Critic_Score  \\\n",
       "0     41.36     28.96      3.77         8.45         82.53          76.0   \n",
       "1     29.08      3.58      6.81         0.77         40.24           NaN   \n",
       "2     15.68     12.76      3.79         3.29         35.52          82.0   \n",
       "3     15.61     10.93      3.28         2.95         32.77          80.0   \n",
       "4     11.27      8.89     10.22         1.00         31.37           NaN   \n",
       "\n",
       "   Critic_Count  User_Score  User_Count Developer Rating  \n",
       "0          51.0         8.0       322.0  Nintendo      E  \n",
       "1           NaN         NaN         NaN       NaN    NaN  \n",
       "2          73.0         8.3       709.0  Nintendo      E  \n",
       "3          73.0         8.0       192.0  Nintendo      E  \n",
       "4           NaN         NaN         NaN       NaN    NaN  "
      ]
     },
     "execution_count": 2,
     "metadata": {},
     "output_type": "execute_result"
    }
   ],
   "source": [
    "#Let's get our data and preview it\n",
    "df = pd.read_csv('Video_Games_Sales.csv')\n",
    "df.head()"
   ]
  },
  {
   "cell_type": "code",
   "execution_count": 3,
   "metadata": {},
   "outputs": [
    {
     "data": {
      "text/plain": [
       "(16719, 16)"
      ]
     },
     "execution_count": 3,
     "metadata": {},
     "output_type": "execute_result"
    }
   ],
   "source": [
    "# It has 16719 rows and 16 columns\n",
    "df.shape"
   ]
  },
  {
   "cell_type": "code",
   "execution_count": 4,
   "metadata": {},
   "outputs": [
    {
     "data": {
      "text/plain": [
       "Index(['Name', 'Platform', 'Year_of_Release', 'Genre', 'Publisher', 'NA_Sales',\n",
       "       'EU_Sales', 'JP_Sales', 'Other_Sales', 'Global_Sales', 'Critic_Score',\n",
       "       'Critic_Count', 'User_Score', 'User_Count', 'Developer', 'Rating'],\n",
       "      dtype='object')"
      ]
     },
     "execution_count": 4,
     "metadata": {},
     "output_type": "execute_result"
    }
   ],
   "source": [
    "# The Column names\n",
    "df.columns"
   ]
  },
  {
   "cell_type": "markdown",
   "metadata": {},
   "source": [
    "### Handling outlier values\n"
   ]
  },
  {
   "cell_type": "code",
   "execution_count": 5,
   "metadata": {},
   "outputs": [
    {
     "data": {
      "text/plain": [
       "[(0.0, 4.0), (50.0, 95.0)]"
      ]
     },
     "execution_count": 5,
     "metadata": {},
     "output_type": "execute_result"
    },
    {
     "data": {
      "image/png": "[encoded data removed]",
      "text/plain": [
       "<Figure size 864x360 with 1 Axes>"
      ]
     },
     "metadata": {
      "needs_background": "light"
     },
     "output_type": "display_data"
    }
   ],
   "source": [
    "#Outlier is an object that deviates significantly from the rest of objects.\n",
    "#Let's check the corelation between what we suspect to be, the most obvious pair of dependent and independent variables.\n",
    "#Plot Corelation bettween Global Sales and Critic Score\n",
    "fig, ax = plt.subplots(1,1, figsize=(12,5))\n",
    "sns.regplot(x=\"Critic_Score\", y=\"Global_Sales\", data=df.loc[df.Year_of_Release >= 2014],\n",
    "            truncate=True, x_bins=15, color=\"#75556c\").set(ylim=(0, 4), xlim=(50, 95))\n",
    "\n",
    "#The relationship looks much clearer now. It's interesting how the slope gets steeper in the 80's.\n",
    "#It seems once a game gets a high critic score, every additional point has a higher impact."
   ]
  },
  {
   "cell_type": "code",
   "execution_count": 6,
   "metadata": {},
   "outputs": [
    {
     "data": {
      "image/png": "[encoded data removed]",
      "text/plain": [
       "<Figure size 432x288 with 1 Axes>"
      ]
     },
     "metadata": {
      "needs_background": "light"
     },
     "output_type": "display_data"
    }
   ],
   "source": [
    "# Handle the outliers of Critic Score\n",
    "fig, ax = plt.subplots()\n",
    "ax.scatter(x = df['Critic_Score'], y = df['Global_Sales'])\n",
    "plt.ylabel('Global_Sales', fontsize=13)\n",
    "plt.xlabel('Critic_Score', fontsize=13)\n",
    "plt.show()"
   ]
  },
  {
   "cell_type": "code",
   "execution_count": 7,
   "metadata": {},
   "outputs": [],
   "source": [
    "#There's really only one clear outlier in the dataset, so lets get rid of it\n",
    "df = df.drop(df[(df['Critic_Score']>60) & (df['Global_Sales']>60)].index)"
   ]
  },
  {
   "cell_type": "code",
   "execution_count": 8,
   "metadata": {},
   "outputs": [
    {
     "data": {
      "image/png": "[encoded data removed]",
      "text/plain": [
       "<Figure size 432x288 with 1 Axes>"
      ]
     },
     "metadata": {
      "needs_background": "light"
     },
     "output_type": "display_data"
    }
   ],
   "source": [
    "#Now we check the plot again to confirm we are rid of the outlier\n",
    "fig, ax = plt.subplots()\n",
    "ax.scatter(x = df['Critic_Score'], y = df['Global_Sales'])\n",
    "plt.ylabel('Global_Sales', fontsize=13)\n",
    "plt.xlabel('Critic_Score', fontsize=13)\n",
    "plt.show()\n"
   ]
  },
  {
   "cell_type": "markdown",
   "metadata": {},
   "source": [
    "###### If we look at the plot post-outlier removal, it still looks as if though there are outliers in the data. However, removing too many data points that are seemingly outliers may cross over to data tampering, which we don't want to get into. So for now, lets keep the data as it is."
   ]
  },
  {
   "cell_type": "markdown",
   "metadata": {},
   "source": [
    "### Handling Missing Values"
   ]
  },
  {
   "cell_type": "code",
   "execution_count": 9,
   "metadata": {},
   "outputs": [
    {
     "data": {
      "text/plain": [
       "Name                  2\n",
       "Platform              0\n",
       "Year_of_Release     269\n",
       "Genre                 2\n",
       "Publisher            54\n",
       "NA_Sales              0\n",
       "EU_Sales              0\n",
       "JP_Sales              0\n",
       "Other_Sales           0\n",
       "Global_Sales          0\n",
       "Critic_Score       8582\n",
       "Critic_Count       8582\n",
       "User_Score         9129\n",
       "User_Count         9129\n",
       "Developer          6623\n",
       "Rating             6769\n",
       "dtype: int64"
      ]
     },
     "execution_count": 9,
     "metadata": {},
     "output_type": "execute_result"
    }
   ],
   "source": [
    "#Now we will handle missing values\n",
    "#Let's look at what independent variables we will keep and whether there are N/A values etc.\n",
    "data_na = df.isnull().sum()\n",
    "data_na"
   ]
  },
  {
   "cell_type": "code",
   "execution_count": 10,
   "metadata": {},
   "outputs": [],
   "source": [
    "# Critic_Score which may very well be the most important independent variable, has lots of N/A value.\n",
    "# So, it cannot feasibly be filled with median values for instance.\n",
    "df = df.dropna(subset=['Critic_Score'])"
   ]
  },
  {
   "cell_type": "code",
   "execution_count": 11,
   "metadata": {},
   "outputs": [
    {
     "data": {
      "text/plain": [
       "Name                  0\n",
       "Platform              0\n",
       "Year_of_Release     154\n",
       "Genre                 0\n",
       "Publisher             4\n",
       "NA_Sales              0\n",
       "EU_Sales              0\n",
       "JP_Sales              0\n",
       "Other_Sales           0\n",
       "Global_Sales          0\n",
       "Critic_Score          0\n",
       "Critic_Count          0\n",
       "User_Score         1120\n",
       "User_Count         1120\n",
       "Developer             6\n",
       "Rating               83\n",
       "dtype: int64"
      ]
     },
     "execution_count": 11,
     "metadata": {},
     "output_type": "execute_result"
    }
   ],
   "source": [
    "#Again check for missing values\n",
    "data_na = df.isnull().sum()\n",
    "data_na"
   ]
  },
  {
   "cell_type": "code",
   "execution_count": 12,
   "metadata": {},
   "outputs": [],
   "source": [
    "#For User_Score let's fill with the median value\n",
    "#There's \"tbd\" values in the mix here which we need to handle first\n",
    "df['User_Score'] = df['User_Score'].replace('tbd', np.nan).astype(float)\n",
    "\n",
    "#Now we can handle the N/A's appropriately\n",
    "df['User_Score'] = df['User_Score'].fillna(df['User_Score'].median())"
   ]
  },
  {
   "cell_type": "code",
   "execution_count": 13,
   "metadata": {},
   "outputs": [],
   "source": [
    "#For User_Count let's fill with the median value\n",
    "df['User_Count'] = df['User_Count'].fillna(df['User_Count'].median())\n",
    "\n",
    "#For Year_of_Release let's fill with the median value\n",
    "df['Year_of_Release'] = df['Year_of_Release'].fillna(df['Year_of_Release'].median())"
   ]
  },
  {
   "cell_type": "code",
   "execution_count": 14,
   "metadata": {},
   "outputs": [],
   "source": [
    "#For Rating, let's fill N/A's with the mode\n",
    "df['Rating'] = df['Rating'].fillna(df['Rating'].mode()[0])"
   ]
  },
  {
   "cell_type": "code",
   "execution_count": 15,
   "metadata": {},
   "outputs": [
    {
     "data": {
      "text/plain": [
       "Name               0\n",
       "Platform           0\n",
       "Year_of_Release    0\n",
       "Genre              0\n",
       "Publisher          4\n",
       "NA_Sales           0\n",
       "EU_Sales           0\n",
       "JP_Sales           0\n",
       "Other_Sales        0\n",
       "Global_Sales       0\n",
       "Critic_Score       0\n",
       "Critic_Count       0\n",
       "User_Score         0\n",
       "User_Count         0\n",
       "Developer          6\n",
       "Rating             0\n",
       "dtype: int64"
      ]
     },
     "execution_count": 15,
     "metadata": {},
     "output_type": "execute_result"
    }
   ],
   "source": [
    "#Lets make sure we donot have any missing values\n",
    "df.isnull().sum()"
   ]
  },
  {
   "cell_type": "code",
   "execution_count": 16,
   "metadata": {},
   "outputs": [
    {
     "data": {
      "text/plain": [
       "array(['Nintendo', 'Microsoft Game Studios', 'Take-Two Interactive',\n",
       "       'Sony Computer Entertainment', 'Activision', 'Ubisoft',\n",
       "       'Bethesda Softworks', 'Electronic Arts', 'SquareSoft',\n",
       "       'GT Interactive', 'Konami Digital Entertainment', 'Square Enix',\n",
       "       'Sony Computer Entertainment Europe', 'Virgin Interactive',\n",
       "       'LucasArts', '505 Games', 'Capcom',\n",
       "       'Warner Bros. Interactive Entertainment', 'Universal Interactive',\n",
       "       'Eidos Interactive', 'RedOctane', 'Atari', 'Namco Bandai Games',\n",
       "       'Vivendi Games', 'MTV Games', 'Sega', 'THQ',\n",
       "       'Disney Interactive Studios', 'Acclaim Entertainment',\n",
       "       'Midway Games', 'Red Orb', 'Deep Silver', 'NCSoft', 'Tecmo Koei',\n",
       "       'Valve Software', 'Infogrames', 'Mindscape', 'Valve',\n",
       "       'Hello Games', 'Global Star', 'Gotham Games',\n",
       "       'Crave Entertainment', 'Hasbro Interactive', 'Codemasters',\n",
       "       'TDK Mediactive', 'Zoo Games', 'Sony Oznline Entertainment', 'RTL',\n",
       "       'D3Publisher', 'Unknown', 'Black Label Games', 'SouthPeak Games',\n",
       "       'Zoo Digital Publishing', 'City Interactive', 'Empire Interactive',\n",
       "       'Russel', 'Atlus', 'Mastertronic', 'Slightly Mad Studios',\n",
       "       'Play It', 'Tomy Corporation', 'Focus Home Interactive',\n",
       "       'Game Factory', 'Titus', 'Marvelous Entertainment', 'Genki',\n",
       "       'TalonSoft', 'Square Enix ', 'SCi', 'Rage Software',\n",
       "       'Ubisoft Annecy', 'Rising Star Games', 'Scholastic Inc.',\n",
       "       'Enix Corporation', 'Level 5', 'Koch Media', 'Square EA',\n",
       "       'Hudson Soft', 'Touchstone', 'Spike', 'Nippon Ichi Software',\n",
       "       'Sony Computer Entertainment America', 'Jester Interactive',\n",
       "       'Majesco Entertainment', 'Illusion Softworks', 'Interplay',\n",
       "       'Metro 3D', 'Sony Online Entertainment', 'Rondomedia',\n",
       "       'Ghostlight', 'PQube', 'Trion Worlds', 'Xseed Games',\n",
       "       'Ignition Entertainment', 'Kadokawa Shoten', 'Natsume', 'Square',\n",
       "       'Gamebridge', 'Midas Interactive Entertainment',\n",
       "       'ASCII Entertainment', 'Rebellion', nan, 'Harmonix Music Systems',\n",
       "       'Activision Blizzard', 'Xplosiv', 'System 3 Arcade Software',\n",
       "       'Wanadoo', 'NovaLogic', 'BAM! Entertainment', 'Tetris Online',\n",
       "       'Psygnosis', 'Screenlife', 'Knowledge Adventure', 'GungHo',\n",
       "       'Black Bean Games', '3DO', 'Takara Tomy', 'Sammy Corporation',\n",
       "       'Kalypso Media', 'Oxygen Interactive', 'PopCap Games',\n",
       "       'Gathering of Developers', 'Marvelous Interactive',\n",
       "       'Home Entertainment Suppliers', 'Arc System Works', 'Banpresto',\n",
       "       'Mud Duck Productions', 'Wargaming.net', 'Destineer',\n",
       "       'Mumbo Jumbo', 'Pacific Century Cyber Works', 'Indie Games',\n",
       "       'Liquid Games', 'FuRyu', 'Nihon Falcom Corporation',\n",
       "       'DTP Entertainment', 'Falcom Corporation', 'Kemco',\n",
       "       'Milestone S.r.l.', 'AQ Interactive', 'Avanquest', 'Agetec',\n",
       "       'XS Games', 'Activision Value', 'Telltale Games', 'Zushi Games',\n",
       "       'CCP', 'Rebellion Developments', 'Agatsuma Entertainment', 'Aspyr',\n",
       "       'Compile Heart', 'Mad Catz', 'Gust', 'TDK Core', 'Nordcurrent',\n",
       "       'Media Rings', 'bitComposer Games', 'JoWood Productions',\n",
       "       'Brash Entertainment', 'Performance Designed Products', 'Funcom',\n",
       "       'Jaleco', 'Playlogic Game Factory', 'Human Entertainment',\n",
       "       'Game Life', 'Fox Interactive', 'System 3',\n",
       "       'Vatical Entertainment', 'Nordic Games', 'White Park Bay Software',\n",
       "       'Daedalic', 'The Adventure Company', 'EA Games', 'Acquire',\n",
       "       'Paradox Interactive', 'Yacht Club Games', 'Swing! Entertainment',\n",
       "       'Hip Interactive', 'Tripwire Interactive', 'SCS Software',\n",
       "       'Enterbrain', 'Havas Interactive', 'Sting', 'Idea Factory',\n",
       "       'Destination Software, Inc', 'Funsta', 'Tru Blu Entertainment',\n",
       "       'Crytek', 'Telegames', 'Moss', 'From Software', 'NDA Productions',\n",
       "       'Foreign Media Games', 'Bigben Interactive',\n",
       "       'Idea Factory International', 'O-Games', 'Gameloft',\n",
       "       'Funbox Media', 'Taito', 'Valcon Games', 'Storm City Games',\n",
       "       'PM Studios', 'Bohemia Interactive', 'Reef Entertainment',\n",
       "       'Aqua Plus', 'Ackkstudios', 'HMH Interactive',\n",
       "       'inXile Entertainment', 'Cave', 'Microids', 'Phantom EFX',\n",
       "       'Evolved Games', 'O3 Entertainment', 'Nobilis', 'Sunsoft',\n",
       "       'Big Ben Interactive', 'DSI Games', 'Little Orbit',\n",
       "       'Hudson Entertainment', 'Popcorn Arcade', 'Insomniac Games',\n",
       "       'Milestone', 'Aksys Games', 'Irem Software Engineering',\n",
       "       'Myelin Media', 'Success', 'Daedalic Entertainment',\n",
       "       'SNK Playmore', 'SNK', 'Avalon Interactive', 'Revolution Software',\n",
       "       'Gamecock', 'Groove Games', 'Mattel Interactive', 'ArtDink',\n",
       "       'Mercury Games', 'Ascaron Entertainment GmbH', 'Mastiff',\n",
       "       'Graffiti', '1C Company', 'Ertain', 'Phantagram',\n",
       "       'DreamCatcher Interactive', 'Dusenberry Martin Racing',\n",
       "       'Conspiracy Entertainment', 'Navarre Corp', 'ESP', 'Starfish',\n",
       "       'Team17 Software', 'Max Five', 'Milestone S.r.l', 'Kool Kizz',\n",
       "       'Monte Christo Multimedia', '5pb', 'Legacy Interactive',\n",
       "       'Cloud Imperium Games Corporation', 'Flashpoint Games',\n",
       "       'Alternative Software', 'DHM Interactive', 'Essential Games',\n",
       "       'Iceberg Interactive', 'Ivolgamus', 'Astragon',\n",
       "       'MC2 Entertainment', '2D Boy', 'Kando Games', 'Gearbox Software',\n",
       "       'Mamba Games', 'LSP Games', 'Global A Entertainment',\n",
       "       'Just Flight', 'UFO Interactive', 'Introversion Software',\n",
       "       'Sold Out', 'Sunflowers', 'Headup Games', 'Pinnacle',\n",
       "       'id Software', 'Maxis', 'Xicat Interactive', 'Devolver Digital',\n",
       "       'Number None', 'TopWare Interactive', \"Yuke's\", 'Strategy First',\n",
       "       'Lexicon Entertainment', 'Vir2L Studios', 'GOA', 'JVC',\n",
       "       'Graphsim Entertainment', 'Phoenix Games', 'Codemasters Online',\n",
       "       'Stainless Games', 'Victor Interactive', '10TACLE Studios',\n",
       "       'FuRyu Corporation', 'Visco', 'Crimson Cow', 'Arika',\n",
       "       'Lighthouse Interactive', 'CDV Software Entertainment', 'Encore',\n",
       "       'Blue Byte', 'Paradox Development', 'NewKidCo'], dtype=object)"
      ]
     },
     "execution_count": 16,
     "metadata": {},
     "output_type": "execute_result"
    }
   ],
   "source": [
    "#Deal with publisher and Developer.\n",
    "##Publisher and Developer will cause a massive influx of features as there are so many unique values in the mix.\n",
    "## It will also increase the computational time.\n",
    "df['Publisher'].unique()"
   ]
  },
  {
   "cell_type": "code",
   "execution_count": 17,
   "metadata": {},
   "outputs": [
    {
     "data": {
      "text/plain": [
       "Index(['Name', 'Platform', 'Year_of_Release', 'Genre', 'NA_Sales', 'EU_Sales',\n",
       "       'JP_Sales', 'Other_Sales', 'Global_Sales', 'Critic_Score',\n",
       "       'Critic_Count', 'User_Score', 'User_Count', 'Rating'],\n",
       "      dtype='object')"
      ]
     },
     "execution_count": 17,
     "metadata": {},
     "output_type": "execute_result"
    }
   ],
   "source": [
    "#At this point it seems best to drop these features entirely.\n",
    "df=df.drop(['Publisher','Developer'],axis=1)\n",
    "#Now we are left with 14 columns out of 16.\n",
    "df.columns"
   ]
  },
  {
   "cell_type": "code",
   "execution_count": 18,
   "metadata": {},
   "outputs": [
    {
     "name": "stdout",
     "output_type": "stream",
     "text": [
      "(8136, 47)\n"
     ]
    }
   ],
   "source": [
    "# We have already dropped Publisher and Developer.\n",
    "# Now we are left with three categorical values.\n",
    "#let's only create dummies for:\n",
    "# 1. Platform\n",
    "# 2. Genre\n",
    "# 3. Rating\n",
    "# The get_dummies() function is used to convert categorical variable into dummy/indicator variables.\n",
    "df = pd.get_dummies(data=df, columns=['Platform', 'Genre', 'Rating'])\n",
    "print(df.shape)"
   ]
  },
  {
   "cell_type": "code",
   "execution_count": 19,
   "metadata": {},
   "outputs": [
    {
     "data": {
      "text/html": [
       "<div>\n",
       "<style scoped>\n",
       "    .dataframe tbody tr th:only-of-type {\n",
       "        vertical-align: middle;\n",
       "    }\n",
       "\n",
       "    .dataframe tbody tr th {\n",
       "        vertical-align: top;\n",
       "    }\n",
       "\n",
       "    .dataframe thead th {\n",
       "        text-align: right;\n",
       "    }\n",
       "</style>\n",
       "<table border=\"1\" class=\"dataframe\">\n",
       "  <thead>\n",
       "    <tr style=\"text-align: right;\">\n",
       "      <th></th>\n",
       "      <th>Name</th>\n",
       "      <th>Year_of_Release</th>\n",
       "      <th>NA_Sales</th>\n",
       "      <th>EU_Sales</th>\n",
       "      <th>JP_Sales</th>\n",
       "      <th>Other_Sales</th>\n",
       "      <th>Global_Sales</th>\n",
       "      <th>Critic_Score</th>\n",
       "      <th>Critic_Count</th>\n",
       "      <th>User_Score</th>\n",
       "      <th>...</th>\n",
       "      <th>Genre_Simulation</th>\n",
       "      <th>Genre_Sports</th>\n",
       "      <th>Genre_Strategy</th>\n",
       "      <th>Rating_AO</th>\n",
       "      <th>Rating_E</th>\n",
       "      <th>Rating_E10+</th>\n",
       "      <th>Rating_K-A</th>\n",
       "      <th>Rating_M</th>\n",
       "      <th>Rating_RP</th>\n",
       "      <th>Rating_T</th>\n",
       "    </tr>\n",
       "  </thead>\n",
       "  <tbody>\n",
       "    <tr>\n",
       "      <th>2</th>\n",
       "      <td>Mario Kart Wii</td>\n",
       "      <td>2008.0</td>\n",
       "      <td>15.68</td>\n",
       "      <td>12.76</td>\n",
       "      <td>3.79</td>\n",
       "      <td>3.29</td>\n",
       "      <td>35.52</td>\n",
       "      <td>82.0</td>\n",
       "      <td>73.0</td>\n",
       "      <td>8.3</td>\n",
       "      <td>...</td>\n",
       "      <td>0</td>\n",
       "      <td>0</td>\n",
       "      <td>0</td>\n",
       "      <td>0</td>\n",
       "      <td>1</td>\n",
       "      <td>0</td>\n",
       "      <td>0</td>\n",
       "      <td>0</td>\n",
       "      <td>0</td>\n",
       "      <td>0</td>\n",
       "    </tr>\n",
       "    <tr>\n",
       "      <th>3</th>\n",
       "      <td>Wii Sports Resort</td>\n",
       "      <td>2009.0</td>\n",
       "      <td>15.61</td>\n",
       "      <td>10.93</td>\n",
       "      <td>3.28</td>\n",
       "      <td>2.95</td>\n",
       "      <td>32.77</td>\n",
       "      <td>80.0</td>\n",
       "      <td>73.0</td>\n",
       "      <td>8.0</td>\n",
       "      <td>...</td>\n",
       "      <td>0</td>\n",
       "      <td>1</td>\n",
       "      <td>0</td>\n",
       "      <td>0</td>\n",
       "      <td>1</td>\n",
       "      <td>0</td>\n",
       "      <td>0</td>\n",
       "      <td>0</td>\n",
       "      <td>0</td>\n",
       "      <td>0</td>\n",
       "    </tr>\n",
       "    <tr>\n",
       "      <th>6</th>\n",
       "      <td>New Super Mario Bros.</td>\n",
       "      <td>2006.0</td>\n",
       "      <td>11.28</td>\n",
       "      <td>9.14</td>\n",
       "      <td>6.50</td>\n",
       "      <td>2.88</td>\n",
       "      <td>29.80</td>\n",
       "      <td>89.0</td>\n",
       "      <td>65.0</td>\n",
       "      <td>8.5</td>\n",
       "      <td>...</td>\n",
       "      <td>0</td>\n",
       "      <td>0</td>\n",
       "      <td>0</td>\n",
       "      <td>0</td>\n",
       "      <td>1</td>\n",
       "      <td>0</td>\n",
       "      <td>0</td>\n",
       "      <td>0</td>\n",
       "      <td>0</td>\n",
       "      <td>0</td>\n",
       "    </tr>\n",
       "    <tr>\n",
       "      <th>7</th>\n",
       "      <td>Wii Play</td>\n",
       "      <td>2006.0</td>\n",
       "      <td>13.96</td>\n",
       "      <td>9.18</td>\n",
       "      <td>2.93</td>\n",
       "      <td>2.84</td>\n",
       "      <td>28.92</td>\n",
       "      <td>58.0</td>\n",
       "      <td>41.0</td>\n",
       "      <td>6.6</td>\n",
       "      <td>...</td>\n",
       "      <td>0</td>\n",
       "      <td>0</td>\n",
       "      <td>0</td>\n",
       "      <td>0</td>\n",
       "      <td>1</td>\n",
       "      <td>0</td>\n",
       "      <td>0</td>\n",
       "      <td>0</td>\n",
       "      <td>0</td>\n",
       "      <td>0</td>\n",
       "    </tr>\n",
       "    <tr>\n",
       "      <th>8</th>\n",
       "      <td>New Super Mario Bros. Wii</td>\n",
       "      <td>2009.0</td>\n",
       "      <td>14.44</td>\n",
       "      <td>6.94</td>\n",
       "      <td>4.70</td>\n",
       "      <td>2.24</td>\n",
       "      <td>28.32</td>\n",
       "      <td>87.0</td>\n",
       "      <td>80.0</td>\n",
       "      <td>8.4</td>\n",
       "      <td>...</td>\n",
       "      <td>0</td>\n",
       "      <td>0</td>\n",
       "      <td>0</td>\n",
       "      <td>0</td>\n",
       "      <td>1</td>\n",
       "      <td>0</td>\n",
       "      <td>0</td>\n",
       "      <td>0</td>\n",
       "      <td>0</td>\n",
       "      <td>0</td>\n",
       "    </tr>\n",
       "  </tbody>\n",
       "</table>\n",
       "<p>5 rows × 47 columns</p>\n",
       "</div>"
      ],
      "text/plain": [
       "                        Name  Year_of_Release  NA_Sales  EU_Sales  JP_Sales  \\\n",
       "2             Mario Kart Wii           2008.0     15.68     12.76      3.79   \n",
       "3          Wii Sports Resort           2009.0     15.61     10.93      3.28   \n",
       "6      New Super Mario Bros.           2006.0     11.28      9.14      6.50   \n",
       "7                   Wii Play           2006.0     13.96      9.18      2.93   \n",
       "8  New Super Mario Bros. Wii           2009.0     14.44      6.94      4.70   \n",
       "\n",
       "   Other_Sales  Global_Sales  Critic_Score  Critic_Count  User_Score  ...  \\\n",
       "2         3.29         35.52          82.0          73.0         8.3  ...   \n",
       "3         2.95         32.77          80.0          73.0         8.0  ...   \n",
       "6         2.88         29.80          89.0          65.0         8.5  ...   \n",
       "7         2.84         28.92          58.0          41.0         6.6  ...   \n",
       "8         2.24         28.32          87.0          80.0         8.4  ...   \n",
       "\n",
       "   Genre_Simulation  Genre_Sports  Genre_Strategy  Rating_AO  Rating_E  \\\n",
       "2                 0             0               0          0         1   \n",
       "3                 0             1               0          0         1   \n",
       "6                 0             0               0          0         1   \n",
       "7                 0             0               0          0         1   \n",
       "8                 0             0               0          0         1   \n",
       "\n",
       "   Rating_E10+  Rating_K-A  Rating_M  Rating_RP  Rating_T  \n",
       "2            0           0         0          0         0  \n",
       "3            0           0         0          0         0  \n",
       "6            0           0         0          0         0  \n",
       "7            0           0         0          0         0  \n",
       "8            0           0         0          0         0  \n",
       "\n",
       "[5 rows x 47 columns]"
      ]
     },
     "execution_count": 19,
     "metadata": {},
     "output_type": "execute_result"
    }
   ],
   "source": [
    "#Now we will look how our dataset looks like now.\n",
    "# We have 47 columns now. Previously we have 16 columns\n",
    "df.head()"
   ]
  },
  {
   "cell_type": "code",
   "execution_count": 20,
   "metadata": {},
   "outputs": [],
   "source": [
    "#Let's drop the region wise sales features since these are part of global sales. These include:\n",
    "df = df.drop(['Name', 'NA_Sales', 'EU_Sales', 'JP_Sales', 'Other_Sales'], axis=1)"
   ]
  },
  {
   "cell_type": "code",
   "execution_count": 21,
   "metadata": {},
   "outputs": [
    {
     "name": "stdout",
     "output_type": "stream",
     "text": [
      "(8136, 41)\n",
      "(8136,)\n"
     ]
    }
   ],
   "source": [
    "#Let's define X and Y and then split into training and test data\n",
    "X = df.loc[:, df.columns != 'Global_Sales'] # Taking all the columns defined above except for Global sales\n",
    "y = df.loc[:,'Global_Sales'] # Global sales will be our dependent variable\n",
    "\n",
    "#Double checking the shape\n",
    "print(X.shape)\n",
    "print(y.shape)\n"
   ]
  },
  {
   "cell_type": "code",
   "execution_count": 22,
   "metadata": {},
   "outputs": [],
   "source": [
    "#Split the training and testing set(We have devided the data into 80% training data and 20% testing data)\n",
    "X_train, X_test, y_train, y_test = train_test_split(X, y,test_size=0.2, random_state= 0)"
   ]
  },
  {
   "cell_type": "code",
   "execution_count": 23,
   "metadata": {},
   "outputs": [
    {
     "data": {
      "text/plain": [
       "Index(['Year_of_Release', 'Critic_Score', 'Critic_Count', 'User_Score',\n",
       "       'User_Count', 'Platform_3DS', 'Platform_DC', 'Platform_DS',\n",
       "       'Platform_GBA', 'Platform_GC', 'Platform_PC', 'Platform_PS',\n",
       "       'Platform_PS2', 'Platform_PS3', 'Platform_PS4', 'Platform_PSP',\n",
       "       'Platform_PSV', 'Platform_Wii', 'Platform_WiiU', 'Platform_X360',\n",
       "       'Platform_XB', 'Platform_XOne', 'Genre_Action', 'Genre_Adventure',\n",
       "       'Genre_Fighting', 'Genre_Misc', 'Genre_Platform', 'Genre_Puzzle',\n",
       "       'Genre_Racing', 'Genre_Role-Playing', 'Genre_Shooter',\n",
       "       'Genre_Simulation', 'Genre_Sports', 'Genre_Strategy', 'Rating_AO',\n",
       "       'Rating_E', 'Rating_E10+', 'Rating_K-A', 'Rating_M', 'Rating_RP',\n",
       "       'Rating_T'],\n",
       "      dtype='object')"
      ]
     },
     "execution_count": 23,
     "metadata": {},
     "output_type": "execute_result"
    }
   ],
   "source": [
    "#To know our features\n",
    "X_train.columns"
   ]
  },
  {
   "cell_type": "markdown",
   "metadata": {},
   "source": [
    "### models with different types of regression"
   ]
  },
  {
   "cell_type": "code",
   "execution_count": 24,
   "metadata": {},
   "outputs": [
    {
     "data": {
      "text/plain": [
       "array([ 1.50608821, -0.25169671,  1.0728676 , ...,  0.25382262,\n",
       "        1.48317761,  0.665071  ])"
      ]
     },
     "execution_count": 24,
     "metadata": {},
     "output_type": "execute_result"
    }
   ],
   "source": [
    "#Build a linear regression model\n",
    "regr = linear_model.LinearRegression()\n",
    "# Use fit to train the model using the training sets\n",
    "regr.fit(X_train, y_train)\n",
    "# Make predictions using the testing set\n",
    "y_pred_linear = regr.predict(X_test)\n",
    "y_pred_linear"
   ]
  },
  {
   "cell_type": "code",
   "execution_count": 25,
   "metadata": {},
   "outputs": [
    {
     "name": "stdout",
     "output_type": "stream",
     "text": [
      "Root Mean squared error: 1.204212102915181\n",
      "Mean absolute error: 0.6331713795797788\n",
      "R2: 0.28403716088356756\n"
     ]
    }
   ],
   "source": [
    "#Root Mean square Error of Linear Regression Model\n",
    "#(Mean or average of the squared of the difference between actual and estimated values)\n",
    "print('Root Mean squared error:', np.sqrt(mean_squared_error(y_test, y_pred_linear)))\n",
    "\n",
    "#Mean absolute Error(Mean of (true value - Predicted value))\n",
    "ln_mae = mean_absolute_error(y_test, y_pred_linear)\n",
    "print('Mean absolute error:', ln_mae)\n",
    "\n",
    "#R^2 Score (1 is perfect prediction)\n",
    "print('R2:',r2_score(y_test, y_pred_linear))\n"
   ]
  },
  {
   "cell_type": "code",
   "execution_count": 26,
   "metadata": {},
   "outputs": [
    {
     "data": {
      "text/plain": [
       "array([0.6643, 0.1487, 0.8648, ..., 0.263 , 0.877 , 0.3204])"
      ]
     },
     "execution_count": 26,
     "metadata": {},
     "output_type": "execute_result"
    }
   ],
   "source": [
    "#Build a Random Forest Regressor\n",
    "random_forest = RandomForestRegressor(random_state=60)\n",
    "random_forest.fit(X_train, y_train)\n",
    "# Make predictions using the testing set\n",
    "y_pred_rf = random_forest.predict(X_test)\n",
    "y_pred_rf\n"
   ]
  },
  {
   "cell_type": "code",
   "execution_count": 27,
   "metadata": {},
   "outputs": [
    {
     "name": "stdout",
     "output_type": "stream",
     "text": [
      "Root Mean squared error: 0.9707544825299379\n",
      "Mean absolute error: 0.4201983832046332\n",
      "R2: 0.534731859234086\n"
     ]
    }
   ],
   "source": [
    "#Root Mean square Error of RandomForest Regression Model\n",
    "#(Mean or average of the squared of the difference between actual and estimated values)\n",
    "print('Root Mean squared error:', np.sqrt(mean_squared_error(y_test, y_pred_rf)))\n",
    "\n",
    "#Mean absolute Error(Mean of (true value - Predicted value))\n",
    "rf_mae = mean_absolute_error(y_test, y_pred_rf)\n",
    "print('Mean absolute error:', rf_mae)\n",
    "\n",
    "#R^2 Score (1 is perfect prediction)\n",
    "print('R2:',r2_score(y_test, y_pred_rf))"
   ]
  },
  {
   "cell_type": "code",
   "execution_count": 28,
   "metadata": {},
   "outputs": [
    {
     "data": {
      "text/plain": [
       "array([1.00756214, 0.25169801, 0.48103757, ..., 0.65443417, 1.00101799,\n",
       "       0.19018215])"
      ]
     },
     "execution_count": 28,
     "metadata": {},
     "output_type": "execute_result"
    }
   ],
   "source": [
    "#Build a Support Vector Regressor\n",
    "svm = SVR(C = 1000, gamma=0.1)\n",
    "#Fit the Model\n",
    "svm.fit(X_train, y_train)\n",
    "# Make predictions using the testing set\n",
    "y_pred_svm = svm.predict(X_test)\n",
    "y_pred_svm"
   ]
  },
  {
   "cell_type": "code",
   "execution_count": 29,
   "metadata": {},
   "outputs": [
    {
     "name": "stdout",
     "output_type": "stream",
     "text": [
      "Root Mean squared error: 1.3722246308784092\n",
      "Mean absolute error: 0.6786206520983217\n",
      "R2: 0.07031692003792378\n"
     ]
    }
   ],
   "source": [
    "#Root Mean square Error of Support Vector Regression Model\n",
    "#(Mean or average of the squared of the difference between actual and estimated values)\n",
    "print('Root Mean squared error:', np.sqrt(mean_squared_error(y_test, y_pred_svm)))\n",
    "\n",
    "#Mean absolute Error(Mean of (true value - Predicted value))\n",
    "svm_mae = mean_absolute_error(y_test, y_pred_svm)\n",
    "print('Mean absolute error:', svm_mae)\n",
    "\n",
    "#R^2 Score (1 is perfect prediction)\n",
    "print('R2:',r2_score(y_test, y_pred_svm))"
   ]
  },
  {
   "cell_type": "code",
   "execution_count": 30,
   "metadata": {},
   "outputs": [
    {
     "data": {
      "image/png": "[encoded data removed]",
      "text/plain": [
       "<Figure size 432x288 with 1 Axes>"
      ]
     },
     "metadata": {},
     "output_type": "display_data"
    }
   ],
   "source": [
    "#Compare our model on basis of Mean absolute error\n",
    "style.use('ggplot')\n",
    "model_comparison = pd.DataFrame({\"model\": [\"Linear Regression\", \"Support Vector Machine\",\"Random Forest\"],\n",
    "                                 \"mae\": [ln_mae, svm_mae, rf_mae]})\n",
    "\n",
    "model_comparison.sort_values(\"mae\", ascending=False).plot(x=\"model\", y=\"mae\", kind=\"barh\",\n",
    "                                                           color=\"darkblue\", legend=False)\n",
    "plt.ylabel(\"\"); plt.yticks(size=14); plt.xlabel(\"Mean Absolute Error\"); plt.xticks(size=14)\n",
    "plt.title(\"Model Comparison on Test MAE\", size=20);\n",
    "\n",
    "# We found that the RandomForest Regressor works the best among the three. \n",
    "# Not only Mean absolute error is less for RandomForestRegressor,the root mean square is also less and R2 is more."
   ]
  },
  {
   "cell_type": "code",
   "execution_count": 31,
   "metadata": {},
   "outputs": [
    {
     "data": {
      "text/html": [
       "<div>\n",
       "<style scoped>\n",
       "    .dataframe tbody tr th:only-of-type {\n",
       "        vertical-align: middle;\n",
       "    }\n",
       "\n",
       "    .dataframe tbody tr th {\n",
       "        vertical-align: top;\n",
       "    }\n",
       "\n",
       "    .dataframe thead th {\n",
       "        text-align: right;\n",
       "    }\n",
       "</style>\n",
       "<table border=\"1\" class=\"dataframe\">\n",
       "  <thead>\n",
       "    <tr style=\"text-align: right;\">\n",
       "      <th></th>\n",
       "      <th>features</th>\n",
       "      <th>Importance</th>\n",
       "    </tr>\n",
       "  </thead>\n",
       "  <tbody>\n",
       "    <tr>\n",
       "      <th>0</th>\n",
       "      <td>Year_of_Release</td>\n",
       "      <td>9.681031e-02</td>\n",
       "    </tr>\n",
       "    <tr>\n",
       "      <th>1</th>\n",
       "      <td>Critic_Score</td>\n",
       "      <td>1.088427e-01</td>\n",
       "    </tr>\n",
       "    <tr>\n",
       "      <th>2</th>\n",
       "      <td>Critic_Count</td>\n",
       "      <td>8.851325e-02</td>\n",
       "    </tr>\n",
       "    <tr>\n",
       "      <th>3</th>\n",
       "      <td>User_Score</td>\n",
       "      <td>6.313573e-02</td>\n",
       "    </tr>\n",
       "    <tr>\n",
       "      <th>4</th>\n",
       "      <td>User_Count</td>\n",
       "      <td>2.548913e-01</td>\n",
       "    </tr>\n",
       "    <tr>\n",
       "      <th>5</th>\n",
       "      <td>Platform_3DS</td>\n",
       "      <td>4.307967e-03</td>\n",
       "    </tr>\n",
       "    <tr>\n",
       "      <th>6</th>\n",
       "      <td>Platform_DC</td>\n",
       "      <td>1.285220e-04</td>\n",
       "    </tr>\n",
       "    <tr>\n",
       "      <th>7</th>\n",
       "      <td>Platform_DS</td>\n",
       "      <td>4.622038e-02</td>\n",
       "    </tr>\n",
       "    <tr>\n",
       "      <th>8</th>\n",
       "      <td>Platform_GBA</td>\n",
       "      <td>1.215330e-03</td>\n",
       "    </tr>\n",
       "    <tr>\n",
       "      <th>9</th>\n",
       "      <td>Platform_GC</td>\n",
       "      <td>5.088073e-04</td>\n",
       "    </tr>\n",
       "    <tr>\n",
       "      <th>10</th>\n",
       "      <td>Platform_PC</td>\n",
       "      <td>7.203133e-02</td>\n",
       "    </tr>\n",
       "    <tr>\n",
       "      <th>11</th>\n",
       "      <td>Platform_PS</td>\n",
       "      <td>1.255399e-03</td>\n",
       "    </tr>\n",
       "    <tr>\n",
       "      <th>12</th>\n",
       "      <td>Platform_PS2</td>\n",
       "      <td>1.218472e-02</td>\n",
       "    </tr>\n",
       "    <tr>\n",
       "      <th>13</th>\n",
       "      <td>Platform_PS3</td>\n",
       "      <td>3.968560e-03</td>\n",
       "    </tr>\n",
       "    <tr>\n",
       "      <th>14</th>\n",
       "      <td>Platform_PS4</td>\n",
       "      <td>1.135576e-03</td>\n",
       "    </tr>\n",
       "    <tr>\n",
       "      <th>15</th>\n",
       "      <td>Platform_PSP</td>\n",
       "      <td>1.992497e-03</td>\n",
       "    </tr>\n",
       "    <tr>\n",
       "      <th>16</th>\n",
       "      <td>Platform_PSV</td>\n",
       "      <td>1.340738e-04</td>\n",
       "    </tr>\n",
       "    <tr>\n",
       "      <th>17</th>\n",
       "      <td>Platform_Wii</td>\n",
       "      <td>8.193864e-02</td>\n",
       "    </tr>\n",
       "    <tr>\n",
       "      <th>18</th>\n",
       "      <td>Platform_WiiU</td>\n",
       "      <td>2.028308e-04</td>\n",
       "    </tr>\n",
       "    <tr>\n",
       "      <th>19</th>\n",
       "      <td>Platform_X360</td>\n",
       "      <td>1.014907e-02</td>\n",
       "    </tr>\n",
       "    <tr>\n",
       "      <th>20</th>\n",
       "      <td>Platform_XB</td>\n",
       "      <td>4.455809e-04</td>\n",
       "    </tr>\n",
       "    <tr>\n",
       "      <th>21</th>\n",
       "      <td>Platform_XOne</td>\n",
       "      <td>7.497408e-04</td>\n",
       "    </tr>\n",
       "    <tr>\n",
       "      <th>22</th>\n",
       "      <td>Genre_Action</td>\n",
       "      <td>5.094375e-03</td>\n",
       "    </tr>\n",
       "    <tr>\n",
       "      <th>23</th>\n",
       "      <td>Genre_Adventure</td>\n",
       "      <td>7.418176e-04</td>\n",
       "    </tr>\n",
       "    <tr>\n",
       "      <th>24</th>\n",
       "      <td>Genre_Fighting</td>\n",
       "      <td>2.039238e-03</td>\n",
       "    </tr>\n",
       "    <tr>\n",
       "      <th>25</th>\n",
       "      <td>Genre_Misc</td>\n",
       "      <td>1.809094e-02</td>\n",
       "    </tr>\n",
       "    <tr>\n",
       "      <th>26</th>\n",
       "      <td>Genre_Platform</td>\n",
       "      <td>5.717448e-03</td>\n",
       "    </tr>\n",
       "    <tr>\n",
       "      <th>27</th>\n",
       "      <td>Genre_Puzzle</td>\n",
       "      <td>1.298819e-03</td>\n",
       "    </tr>\n",
       "    <tr>\n",
       "      <th>28</th>\n",
       "      <td>Genre_Racing</td>\n",
       "      <td>1.355939e-02</td>\n",
       "    </tr>\n",
       "    <tr>\n",
       "      <th>29</th>\n",
       "      <td>Genre_Role-Playing</td>\n",
       "      <td>3.261636e-03</td>\n",
       "    </tr>\n",
       "    <tr>\n",
       "      <th>30</th>\n",
       "      <td>Genre_Shooter</td>\n",
       "      <td>6.752357e-03</td>\n",
       "    </tr>\n",
       "    <tr>\n",
       "      <th>31</th>\n",
       "      <td>Genre_Simulation</td>\n",
       "      <td>6.449175e-03</td>\n",
       "    </tr>\n",
       "    <tr>\n",
       "      <th>32</th>\n",
       "      <td>Genre_Sports</td>\n",
       "      <td>3.691620e-02</td>\n",
       "    </tr>\n",
       "    <tr>\n",
       "      <th>33</th>\n",
       "      <td>Genre_Strategy</td>\n",
       "      <td>2.756671e-04</td>\n",
       "    </tr>\n",
       "    <tr>\n",
       "      <th>34</th>\n",
       "      <td>Rating_AO</td>\n",
       "      <td>2.566970e-05</td>\n",
       "    </tr>\n",
       "    <tr>\n",
       "      <th>35</th>\n",
       "      <td>Rating_E</td>\n",
       "      <td>4.079070e-02</td>\n",
       "    </tr>\n",
       "    <tr>\n",
       "      <th>36</th>\n",
       "      <td>Rating_E10+</td>\n",
       "      <td>2.525294e-03</td>\n",
       "    </tr>\n",
       "    <tr>\n",
       "      <th>37</th>\n",
       "      <td>Rating_K-A</td>\n",
       "      <td>1.931435e-05</td>\n",
       "    </tr>\n",
       "    <tr>\n",
       "      <th>38</th>\n",
       "      <td>Rating_M</td>\n",
       "      <td>2.756915e-03</td>\n",
       "    </tr>\n",
       "    <tr>\n",
       "      <th>39</th>\n",
       "      <td>Rating_RP</td>\n",
       "      <td>2.285654e-08</td>\n",
       "    </tr>\n",
       "    <tr>\n",
       "      <th>40</th>\n",
       "      <td>Rating_T</td>\n",
       "      <td>2.922700e-03</td>\n",
       "    </tr>\n",
       "  </tbody>\n",
       "</table>\n",
       "</div>"
      ],
      "text/plain": [
       "              features    Importance\n",
       "0      Year_of_Release  9.681031e-02\n",
       "1         Critic_Score  1.088427e-01\n",
       "2         Critic_Count  8.851325e-02\n",
       "3           User_Score  6.313573e-02\n",
       "4           User_Count  2.548913e-01\n",
       "5         Platform_3DS  4.307967e-03\n",
       "6          Platform_DC  1.285220e-04\n",
       "7          Platform_DS  4.622038e-02\n",
       "8         Platform_GBA  1.215330e-03\n",
       "9          Platform_GC  5.088073e-04\n",
       "10         Platform_PC  7.203133e-02\n",
       "11         Platform_PS  1.255399e-03\n",
       "12        Platform_PS2  1.218472e-02\n",
       "13        Platform_PS3  3.968560e-03\n",
       "14        Platform_PS4  1.135576e-03\n",
       "15        Platform_PSP  1.992497e-03\n",
       "16        Platform_PSV  1.340738e-04\n",
       "17        Platform_Wii  8.193864e-02\n",
       "18       Platform_WiiU  2.028308e-04\n",
       "19       Platform_X360  1.014907e-02\n",
       "20         Platform_XB  4.455809e-04\n",
       "21       Platform_XOne  7.497408e-04\n",
       "22        Genre_Action  5.094375e-03\n",
       "23     Genre_Adventure  7.418176e-04\n",
       "24      Genre_Fighting  2.039238e-03\n",
       "25          Genre_Misc  1.809094e-02\n",
       "26      Genre_Platform  5.717448e-03\n",
       "27        Genre_Puzzle  1.298819e-03\n",
       "28        Genre_Racing  1.355939e-02\n",
       "29  Genre_Role-Playing  3.261636e-03\n",
       "30       Genre_Shooter  6.752357e-03\n",
       "31    Genre_Simulation  6.449175e-03\n",
       "32        Genre_Sports  3.691620e-02\n",
       "33      Genre_Strategy  2.756671e-04\n",
       "34           Rating_AO  2.566970e-05\n",
       "35            Rating_E  4.079070e-02\n",
       "36         Rating_E10+  2.525294e-03\n",
       "37          Rating_K-A  1.931435e-05\n",
       "38            Rating_M  2.756915e-03\n",
       "39           Rating_RP  2.285654e-08\n",
       "40            Rating_T  2.922700e-03"
      ]
     },
     "execution_count": 31,
     "metadata": {},
     "output_type": "execute_result"
    }
   ],
   "source": [
    "#We need to see the feature importance of the model to find out which features are the most important ones in explaining the results.\n",
    "New_df = pd.DataFrame(list(zip(X_train.columns, random_forest.feature_importances_)),columns = ['features', 'Importance'])\n",
    "New_df"
   ]
  },
  {
   "cell_type": "code",
   "execution_count": 32,
   "metadata": {},
   "outputs": [
    {
     "data": {
      "image/png": "[encoded data removed]",
      "text/plain": [
       "<Figure size 1440x720 with 1 Axes>"
      ]
     },
     "metadata": {},
     "output_type": "display_data"
    }
   ],
   "source": [
    "# Plot feature importance\n",
    "sorted_idx = np.argsort(New_df.Importance)\n",
    "pos = np.arange(sorted_idx.shape[0]) + .5\n",
    "fig3=plt.figure(figsize=(20,10))\n",
    "sub=fig3.add_subplot(1,2,2)\n",
    "plt.barh(pos, New_df.Importance[sorted_idx], align='center')\n",
    "plt.yticks(pos, X_train.columns.values[sorted_idx])\n",
    "plt.title(\"Importance of features\")\n",
    "fig3.show()"
   ]
  },
  {
   "cell_type": "markdown",
   "metadata": {},
   "source": [
    "let's get to the real question: is the model good or not?\n",
    "\n",
    "Well, it depends on the point of view. If you would use this model to forecast the unit sales of a small video game developer's game, the model may not be as good. The reason is that typically independent smaller studios sell under a million copies. Since the accuracy of this model is low, a high margin of error can have a tremendous financial impact on the company, if you are relying on forecasting sales with this model. However, if you use this model to forecast the unit sales of larger AAA game developer's game, a higher margin of error, isn't that fatal. If you're forecasting the unit sales of a developer who typically sells say 3 million copies, then a roughly 10 % deviation is not fatal. Sure it isn't close to perfect, but these type of models typically aren't."
   ]
  }
 ],
 "metadata": {
  "kernelspec": {
   "display_name": "Python 3",
   "language": "python",
   "name": "python3"
  },
  "language_info": {
   "codemirror_mode": {
    "name": "ipython",
    "version": 3
   },
   "file_extension": ".py",
   "mimetype": "text/x-python",
   "name": "python",
   "nbconvert_exporter": "python",
   "pygments_lexer": "ipython3",
   "version": "3.7.7"
  }
 },
 "nbformat": 4,
 "nbformat_minor": 4
}
